{
 "cells": [
  {
   "cell_type": "code",
   "execution_count": 67,
   "metadata": {},
   "outputs": [
    {
     "name": "stdout",
     "output_type": "stream",
     "text": [
      "Collecting sklearn\n",
      "  Using cached sklearn-0.0.tar.gz (1.1 kB)\n",
      "  Preparing metadata (setup.py): started\n",
      "  Preparing metadata (setup.py): finished with status 'done'\n",
      "Collecting scikit-learn\n",
      "  Downloading scikit_learn-1.1.3-cp310-cp310-win_amd64.whl (7.5 MB)\n",
      "     ---------------------------------------- 7.5/7.5 MB 23.0 MB/s eta 0:00:00\n",
      "Requirement already satisfied: joblib>=1.0.0 in c:\\users\\mdc20\\appdata\\local\\packages\\pythonsoftwarefoundation.python.3.10_qbz5n2kfra8p0\\localcache\\local-packages\\python310\\site-packages (from scikit-learn->sklearn) (1.2.0)\n",
      "Requirement already satisfied: scipy>=1.3.2 in c:\\users\\mdc20\\appdata\\local\\packages\\pythonsoftwarefoundation.python.3.10_qbz5n2kfra8p0\\localcache\\local-packages\\python310\\site-packages (from scikit-learn->sklearn) (1.9.1)\n",
      "Requirement already satisfied: numpy>=1.17.3 in c:\\users\\mdc20\\appdata\\local\\packages\\pythonsoftwarefoundation.python.3.10_qbz5n2kfra8p0\\localcache\\local-packages\\python310\\site-packages (from scikit-learn->sklearn) (1.23.3)\n",
      "Requirement already satisfied: threadpoolctl>=2.0.0 in c:\\users\\mdc20\\appdata\\local\\packages\\pythonsoftwarefoundation.python.3.10_qbz5n2kfra8p0\\localcache\\local-packages\\python310\\site-packages (from scikit-learn->sklearn) (3.1.0)\n",
      "Building wheels for collected packages: sklearn\n",
      "  Building wheel for sklearn (setup.py): started\n",
      "  Building wheel for sklearn (setup.py): finished with status 'done'\n",
      "  Created wheel for sklearn: filename=sklearn-0.0-py2.py3-none-any.whl size=1304 sha256=39eae291e8b51c5536c7241e3ed6acfd0447ff0c023a4e39060dcc325d372de3\n",
      "  Stored in directory: c:\\users\\mdc20\\appdata\\local\\pip\\cache\\wheels\\95\\8e\\3e\\6372bf25c0ed7afad69bc3612e851d17314f5a77655811fd99\n",
      "Successfully built sklearn\n",
      "Installing collected packages: scikit-learn, sklearn\n",
      "Successfully installed scikit-learn-1.1.3 sklearn-0.0\n"
     ]
    }
   ],
   "source": [
    "!pip install sklearn"
   ]
  },
  {
   "cell_type": "code",
   "execution_count": 3,
   "metadata": {},
   "outputs": [],
   "source": [
    "import numpy as np\n",
    "import cv2\n",
    "import scipy\n"
   ]
  },
  {
   "cell_type": "code",
   "execution_count": 4,
   "metadata": {},
   "outputs": [],
   "source": [
    "FOLDER_PATH = 'C:\\\\Users\\\\mdc20\\\\Downloads\\\\img'\n",
    "CLASS_LIST_21 = [\"Tee\",\"Tank\",\"Dress\",\"Shorts\",\"Skirt\",\"Hoodie\",\"Jumpsuit\",\"Sweater\",\"Blazer\",\"Striped\",\"Cardigan\",\"Blouse\",\"Jacket\",\"Jeans\",\"Maxi\",\"Floral\",\"Denim\",\"Sweatshorts\",\"Polka\",\"Shawl\",\"Bodycon\"]\n",
    "CLASS_LIST = CLASS_LIST_21\n",
    "# IMG_PATH = FOLDER_PATH + FILEPATH\n",
    "# print(IMG_PATH)\n",
    "# img, height, width = readImg(IMG_PATH)\n",
    "# g_kernel = gaussian_kernel(height, width,kernel_relative_size=0.01)\n"
   ]
  },
  {
   "cell_type": "code",
   "execution_count": 5,
   "metadata": {},
   "outputs": [],
   "source": [
    "def gaussian_kernel(img_height, img_width, kernel_relative_size = 0.1, verbose=False):\n",
    "    xs = scipy.signal.gaussian(img_width, std= img_width * kernel_relative_size)\n",
    "    ys = scipy.signal.gaussian(img_height, std=img_height * kernel_relative_size)\n",
    "    kernel = np.array([[x*y for x in xs] for y in ys])\n",
    "    return kernel"
   ]
  },
  {
   "cell_type": "code",
   "execution_count": 6,
   "metadata": {},
   "outputs": [],
   "source": [
    "def readImg(filepath):\n",
    "    img = cv2.imread(filepath)\n",
    "    # img.resize()\n",
    "    height = len(img)\n",
    "    width= len(img[0])\n",
    "    return img, height, width"
   ]
  },
  {
   "cell_type": "code",
   "execution_count": 7,
   "metadata": {},
   "outputs": [],
   "source": [
    "from collections import defaultdict\n",
    "import pandas as pd\n",
    "import numpy as np\n",
    "import os\n",
    "datasetdir = 'C:\\\\Users\\\\mdc20\\\\Downloads\\\\img\\\\'\n",
    "def constructImageClassDataFrame(class_list = CLASS_LIST):\n",
    "    # Args: \n",
    "    #   Shape: Image shape (2D)\n",
    "    #   min_class_occurence: number of times class must occur in labeled dir in order to add it to the final sclass list\n",
    "    os.chdir(datasetdir)\n",
    "    \n",
    "    sub_dirs = [d for d in os.listdir(os.getcwd()) if os.path.isdir(os.path.join(datasetdir, d))]\n",
    "    \n",
    "    arr = [[labeled_dir, file] for labeled_dir in sub_dirs for file in os.listdir(labeled_dir) ]\n",
    "    print(\"Done parsing through directories\")\n",
    "    df = pd.DataFrame(data=arr, columns=[\"folder\",\"filename\"])\n",
    "\n",
    "    df['filepath'] = datasetdir + df['folder'] + '\\\\' + df['filename']\n",
    "    df['labels'] = df['folder'].apply(lambda x : x.split('_') if len(x.split('_')) > 0 else None)\n",
    "\n",
    "    print(np.shape(df))\n",
    "    df = df[df.labels.notnull()]\n",
    "\n",
    "\n",
    "    return df"
   ]
  },
  {
   "cell_type": "code",
   "execution_count": 8,
   "metadata": {},
   "outputs": [
    {
     "name": "stdout",
     "output_type": "stream",
     "text": [
      "Done parsing through directories\n",
      "(289223, 4)\n"
     ]
    }
   ],
   "source": [
    "df = constructImageClassDataFrame()"
   ]
  },
  {
   "cell_type": "code",
   "execution_count": 9,
   "metadata": {},
   "outputs": [
    {
     "data": {
      "text/html": [
       "<div>\n",
       "<style scoped>\n",
       "    .dataframe tbody tr th:only-of-type {\n",
       "        vertical-align: middle;\n",
       "    }\n",
       "\n",
       "    .dataframe tbody tr th {\n",
       "        vertical-align: top;\n",
       "    }\n",
       "\n",
       "    .dataframe thead th {\n",
       "        text-align: right;\n",
       "    }\n",
       "</style>\n",
       "<table border=\"1\" class=\"dataframe\">\n",
       "  <thead>\n",
       "    <tr style=\"text-align: right;\">\n",
       "      <th></th>\n",
       "      <th>folder</th>\n",
       "      <th>filename</th>\n",
       "      <th>filepath</th>\n",
       "      <th>labels</th>\n",
       "    </tr>\n",
       "  </thead>\n",
       "  <tbody>\n",
       "    <tr>\n",
       "      <th>0</th>\n",
       "      <td>1981_Graphic_Ringer_Tee</td>\n",
       "      <td>img_00000001.jpg</td>\n",
       "      <td>C:\\Users\\mdc20\\Downloads\\img\\1981_Graphic_Ring...</td>\n",
       "      <td>[1981, Graphic, Ringer, Tee]</td>\n",
       "    </tr>\n",
       "    <tr>\n",
       "      <th>1</th>\n",
       "      <td>1981_Graphic_Ringer_Tee</td>\n",
       "      <td>img_00000002.jpg</td>\n",
       "      <td>C:\\Users\\mdc20\\Downloads\\img\\1981_Graphic_Ring...</td>\n",
       "      <td>[1981, Graphic, Ringer, Tee]</td>\n",
       "    </tr>\n",
       "    <tr>\n",
       "      <th>2</th>\n",
       "      <td>1981_Graphic_Ringer_Tee</td>\n",
       "      <td>img_00000003.jpg</td>\n",
       "      <td>C:\\Users\\mdc20\\Downloads\\img\\1981_Graphic_Ring...</td>\n",
       "      <td>[1981, Graphic, Ringer, Tee]</td>\n",
       "    </tr>\n",
       "    <tr>\n",
       "      <th>3</th>\n",
       "      <td>1981_Graphic_Ringer_Tee</td>\n",
       "      <td>img_00000004.jpg</td>\n",
       "      <td>C:\\Users\\mdc20\\Downloads\\img\\1981_Graphic_Ring...</td>\n",
       "      <td>[1981, Graphic, Ringer, Tee]</td>\n",
       "    </tr>\n",
       "    <tr>\n",
       "      <th>4</th>\n",
       "      <td>1981_Graphic_Ringer_Tee</td>\n",
       "      <td>img_00000005.jpg</td>\n",
       "      <td>C:\\Users\\mdc20\\Downloads\\img\\1981_Graphic_Ring...</td>\n",
       "      <td>[1981, Graphic, Ringer, Tee]</td>\n",
       "    </tr>\n",
       "  </tbody>\n",
       "</table>\n",
       "</div>"
      ],
      "text/plain": [
       "                    folder          filename  \\\n",
       "0  1981_Graphic_Ringer_Tee  img_00000001.jpg   \n",
       "1  1981_Graphic_Ringer_Tee  img_00000002.jpg   \n",
       "2  1981_Graphic_Ringer_Tee  img_00000003.jpg   \n",
       "3  1981_Graphic_Ringer_Tee  img_00000004.jpg   \n",
       "4  1981_Graphic_Ringer_Tee  img_00000005.jpg   \n",
       "\n",
       "                                            filepath  \\\n",
       "0  C:\\Users\\mdc20\\Downloads\\img\\1981_Graphic_Ring...   \n",
       "1  C:\\Users\\mdc20\\Downloads\\img\\1981_Graphic_Ring...   \n",
       "2  C:\\Users\\mdc20\\Downloads\\img\\1981_Graphic_Ring...   \n",
       "3  C:\\Users\\mdc20\\Downloads\\img\\1981_Graphic_Ring...   \n",
       "4  C:\\Users\\mdc20\\Downloads\\img\\1981_Graphic_Ring...   \n",
       "\n",
       "                         labels  \n",
       "0  [1981, Graphic, Ringer, Tee]  \n",
       "1  [1981, Graphic, Ringer, Tee]  \n",
       "2  [1981, Graphic, Ringer, Tee]  \n",
       "3  [1981, Graphic, Ringer, Tee]  \n",
       "4  [1981, Graphic, Ringer, Tee]  "
      ]
     },
     "execution_count": 9,
     "metadata": {},
     "output_type": "execute_result"
    }
   ],
   "source": [
    "df.head()"
   ]
  },
  {
   "cell_type": "code",
   "execution_count": 10,
   "metadata": {},
   "outputs": [
    {
     "name": "stdout",
     "output_type": "stream",
     "text": [
      "[4 4 4]\n"
     ]
    }
   ],
   "source": [
    "from numpy.random import choice\n",
    "a = [1, 2, 3, 4]\n",
    "b = [0.1, 0.5, 0.7, 0.9]\n",
    "b = b / np.sum(b)\n",
    "\n",
    "draw = choice(a, 3, replace=True, p=b)\n",
    "print(draw)"
   ]
  },
  {
   "cell_type": "code",
   "execution_count": 11,
   "metadata": {},
   "outputs": [
    {
     "name": "stdout",
     "output_type": "stream",
     "text": [
      "3.1455142498016357\n"
     ]
    }
   ],
   "source": [
    "from numpy.random import choice\n",
    "import time\n",
    "# from sklearn.neighbors import NearestNeighbors\n",
    "\n",
    "from sklearn.cluster import KMeans\n",
    "def readImg(filepath, resize_shape = (224,224)):\n",
    "    img = cv2.imread(filepath)\n",
    "    if img is not None:\n",
    "        r_img = cv2.resize(img, resize_shape)\n",
    "        return r_img\n",
    "    else:\n",
    "        return img\n",
    "\n",
    "def get_flatted_normalized_gaussian_kernel(kernel: list[list[float]]):\n",
    "    kernel = kernel.reshape(-1)\n",
    "    kernel = kernel / np.sum(kernel)\n",
    "    return kernel \n",
    "    \n",
    "\n",
    "def get_draw(img_colors, normed_kernel = None, sample_size = 1000):\n",
    "    if normed_kernel is not None:\n",
    "        draw_idx = choice(a=224**2, size=sample_size, replace=True, p=normed_kernel)\n",
    "    else:\n",
    "        draw_idx = choice(a=224**2, size=sample_size, replace=True)\n",
    "    # Get rows specified by draw idx for img_colors\n",
    "    return img_colors[draw_idx]\n",
    "\n",
    "\n",
    "def rgb_to_hex(r, g, b):\n",
    "    return ('{:02X}' * 3).format(r, g, b)\n",
    "\n",
    "\n",
    "def get_knn_for_colors_list(colors):\n",
    "    kmeans = KMeans(n_clusters=3, random_state=42)\n",
    "    kmeans.fit(colors)\n",
    "    return kmeans.cluster_centers_\n",
    "\n",
    "def get_dominant_colors(filepath, normed_kernel = None):    \n",
    "    img = readImg(filepath=filepath, resize_shape=(224,224))\n",
    "    if img is None:\n",
    "        return list()\n",
    "    if normed_kernel is None:\n",
    "        kernel = gaussian_kernel(224, 224, kernel_relative_size = 0.1, verbose=False)\n",
    "        normed_kernel = get_flatted_normalized_gaussian_kernel(kernel)\n",
    "    # Resize the image input to be a list of lenght width*height\n",
    "    img_colors = np.array(img.reshape((-1, 3)), dtype=float)\n",
    "\n",
    "    draw = get_draw(img_colors=img_colors, normed_kernel=normed_kernel, sample_size=200)\n",
    "    # return draw\n",
    "    knn_colors = get_knn_for_colors_list(draw)\n",
    "    # knn_colors = []\n",
    "    hex_vals = list()\n",
    "    for color in knn_colors:\n",
    "        # These colors are encoded with BGR\n",
    "        blue = int (color[0])\n",
    "        green = int (color[1])\n",
    "        red = int (color[2])\n",
    "        hex_val = rgb_to_hex(red, green, blue)\n",
    "        hex_vals.append(hex_val)\n",
    "    return hex_vals\n",
    "    # g_kernel = gaussian_kernel(height, width, kernel_relative_size=0.05)\n",
    "\n",
    "\n",
    "# df['hex_code'] = df['filepath'].apply(lambda x: get_dominant_color(x))\n",
    "\n",
    "\n",
    "kernel = gaussian_kernel(224, 224, kernel_relative_size = 0.1, verbose=False)\n",
    "normed_kernel = get_flatted_normalized_gaussian_kernel(kernel)\n",
    "# hex_vals = get_dominant_colors(\"E:\\\\img_highres\\\\Abstract_Print_Mesh_Tee\\\\img_00000003.jpg\", normed_kernel=normed_kernel)\n",
    "\n",
    "df_test_batch = df.sample(100)\n",
    "before = time.time()\n",
    "df_test_batch['hex_code'] = df_test_batch['filepath'].apply(lambda x: get_dominant_colors(x, normed_kernel=normed_kernel))\n",
    "after = time.time()\n",
    "print (after - before)"
   ]
  },
  {
   "cell_type": "code",
   "execution_count": 12,
   "metadata": {},
   "outputs": [
    {
     "name": "stderr",
     "output_type": "stream",
     "text": [
      "C:\\Users\\mdc20\\AppData\\Local\\Temp\\ipykernel_29352\\2493317562.py:36: ConvergenceWarning: Number of distinct clusters (1) found smaller than n_clusters (3). Possibly due to duplicate points in X.\n",
      "  kmeans.fit(colors)\n"
     ]
    }
   ],
   "source": [
    "# Now we do the whole dataframe\n",
    "mongo_prod_batch_df = df\n",
    "kernel = gaussian_kernel(224, 224, kernel_relative_size = 0.1, verbose=False)\n",
    "normed_kernel = get_flatted_normalized_gaussian_kernel(kernel)\n",
    "before = time.time()\n",
    "mongo_prod_batch_df['hex_codes'] = mongo_prod_batch_df['filepath'].apply(lambda x: get_dominant_colors(filepath=x, normed_kernel=normed_kernel))\n",
    "after = time.time()\n",
    "print (after - before)\n",
    "mongo_prod_batch_df.to_csv('C:\\\\Users\\\\mdc20\\\\full_labels.csv')"
   ]
  },
  {
   "cell_type": "code",
   "execution_count": null,
   "metadata": {},
   "outputs": [],
   "source": [
    "mongo_prod_batch_df.to_csv('C:\\\\Users\\\\mdc20\\\\labeled_filenames_2.csv')\n"
   ]
  },
  {
   "cell_type": "code",
   "execution_count": 78,
   "metadata": {},
   "outputs": [
    {
     "ename": "KeyboardInterrupt",
     "evalue": "",
     "output_type": "error",
     "traceback": [
      "\u001b[1;31m---------------------------------------------------------------------------\u001b[0m",
      "\u001b[1;31mKeyboardInterrupt\u001b[0m                         Traceback (most recent call last)",
      "Cell \u001b[1;32mIn [78], line 4\u001b[0m\n\u001b[0;32m      2\u001b[0m normed_kernel \u001b[39m=\u001b[39m get_flatted_normalized_gaussian_kernel(kernel)\n\u001b[0;32m      3\u001b[0m before \u001b[39m=\u001b[39m time\u001b[39m.\u001b[39mtime()\n\u001b[1;32m----> 4\u001b[0m df[\u001b[39m'\u001b[39m\u001b[39mhex_codes\u001b[39m\u001b[39m'\u001b[39m] \u001b[39m=\u001b[39m df[\u001b[39m'\u001b[39m\u001b[39mfilepath\u001b[39m\u001b[39m'\u001b[39m]\u001b[39m.\u001b[39mapply(\u001b[39mlambda\u001b[39;00m x: get_dominant_colors(filepath\u001b[39m=\u001b[39mx, normed_kernel\u001b[39m=\u001b[39mnormed_kernel))\n\u001b[0;32m      5\u001b[0m after \u001b[39m=\u001b[39m time\u001b[39m.\u001b[39mtime()\n\u001b[0;32m      6\u001b[0m \u001b[39mprint\u001b[39m (after \u001b[39m-\u001b[39m before)\n",
      "File \u001b[1;32m~\\AppData\\Local\\Packages\\PythonSoftwareFoundation.Python.3.10_qbz5n2kfra8p0\\LocalCache\\local-packages\\Python310\\site-packages\\pandas\\core\\series.py:4774\u001b[0m, in \u001b[0;36mSeries.apply\u001b[1;34m(self, func, convert_dtype, args, **kwargs)\u001b[0m\n\u001b[0;32m   4664\u001b[0m \u001b[39mdef\u001b[39;00m \u001b[39mapply\u001b[39m(\n\u001b[0;32m   4665\u001b[0m     \u001b[39mself\u001b[39m,\n\u001b[0;32m   4666\u001b[0m     func: AggFuncType,\n\u001b[1;32m   (...)\u001b[0m\n\u001b[0;32m   4669\u001b[0m     \u001b[39m*\u001b[39m\u001b[39m*\u001b[39mkwargs,\n\u001b[0;32m   4670\u001b[0m ) \u001b[39m-\u001b[39m\u001b[39m>\u001b[39m DataFrame \u001b[39m|\u001b[39m Series:\n\u001b[0;32m   4671\u001b[0m     \u001b[39m\"\"\"\u001b[39;00m\n\u001b[0;32m   4672\u001b[0m \u001b[39m    Invoke function on values of Series.\u001b[39;00m\n\u001b[0;32m   4673\u001b[0m \n\u001b[1;32m   (...)\u001b[0m\n\u001b[0;32m   4772\u001b[0m \u001b[39m    dtype: float64\u001b[39;00m\n\u001b[0;32m   4773\u001b[0m \u001b[39m    \"\"\"\u001b[39;00m\n\u001b[1;32m-> 4774\u001b[0m     \u001b[39mreturn\u001b[39;00m SeriesApply(\u001b[39mself\u001b[39;49m, func, convert_dtype, args, kwargs)\u001b[39m.\u001b[39;49mapply()\n",
      "File \u001b[1;32m~\\AppData\\Local\\Packages\\PythonSoftwareFoundation.Python.3.10_qbz5n2kfra8p0\\LocalCache\\local-packages\\Python310\\site-packages\\pandas\\core\\apply.py:1100\u001b[0m, in \u001b[0;36mSeriesApply.apply\u001b[1;34m(self)\u001b[0m\n\u001b[0;32m   1097\u001b[0m     \u001b[39mreturn\u001b[39;00m \u001b[39mself\u001b[39m\u001b[39m.\u001b[39mapply_str()\n\u001b[0;32m   1099\u001b[0m \u001b[39m# self.f is Callable\u001b[39;00m\n\u001b[1;32m-> 1100\u001b[0m \u001b[39mreturn\u001b[39;00m \u001b[39mself\u001b[39;49m\u001b[39m.\u001b[39;49mapply_standard()\n",
      "File \u001b[1;32m~\\AppData\\Local\\Packages\\PythonSoftwareFoundation.Python.3.10_qbz5n2kfra8p0\\LocalCache\\local-packages\\Python310\\site-packages\\pandas\\core\\apply.py:1151\u001b[0m, in \u001b[0;36mSeriesApply.apply_standard\u001b[1;34m(self)\u001b[0m\n\u001b[0;32m   1149\u001b[0m     \u001b[39melse\u001b[39;00m:\n\u001b[0;32m   1150\u001b[0m         values \u001b[39m=\u001b[39m obj\u001b[39m.\u001b[39mastype(\u001b[39mobject\u001b[39m)\u001b[39m.\u001b[39m_values\n\u001b[1;32m-> 1151\u001b[0m         mapped \u001b[39m=\u001b[39m lib\u001b[39m.\u001b[39;49mmap_infer(\n\u001b[0;32m   1152\u001b[0m             values,\n\u001b[0;32m   1153\u001b[0m             f,\n\u001b[0;32m   1154\u001b[0m             convert\u001b[39m=\u001b[39;49m\u001b[39mself\u001b[39;49m\u001b[39m.\u001b[39;49mconvert_dtype,\n\u001b[0;32m   1155\u001b[0m         )\n\u001b[0;32m   1157\u001b[0m \u001b[39mif\u001b[39;00m \u001b[39mlen\u001b[39m(mapped) \u001b[39mand\u001b[39;00m \u001b[39misinstance\u001b[39m(mapped[\u001b[39m0\u001b[39m], ABCSeries):\n\u001b[0;32m   1158\u001b[0m     \u001b[39m# GH#43986 Need to do list(mapped) in order to get treated as nested\u001b[39;00m\n\u001b[0;32m   1159\u001b[0m     \u001b[39m#  See also GH#25959 regarding EA support\u001b[39;00m\n\u001b[0;32m   1160\u001b[0m     \u001b[39mreturn\u001b[39;00m obj\u001b[39m.\u001b[39m_constructor_expanddim(\u001b[39mlist\u001b[39m(mapped), index\u001b[39m=\u001b[39mobj\u001b[39m.\u001b[39mindex)\n",
      "File \u001b[1;32m~\\AppData\\Local\\Packages\\PythonSoftwareFoundation.Python.3.10_qbz5n2kfra8p0\\LocalCache\\local-packages\\Python310\\site-packages\\pandas\\_libs\\lib.pyx:2919\u001b[0m, in \u001b[0;36mpandas._libs.lib.map_infer\u001b[1;34m()\u001b[0m\n",
      "Cell \u001b[1;32mIn [78], line 4\u001b[0m, in \u001b[0;36m<lambda>\u001b[1;34m(x)\u001b[0m\n\u001b[0;32m      2\u001b[0m normed_kernel \u001b[39m=\u001b[39m get_flatted_normalized_gaussian_kernel(kernel)\n\u001b[0;32m      3\u001b[0m before \u001b[39m=\u001b[39m time\u001b[39m.\u001b[39mtime()\n\u001b[1;32m----> 4\u001b[0m df[\u001b[39m'\u001b[39m\u001b[39mhex_codes\u001b[39m\u001b[39m'\u001b[39m] \u001b[39m=\u001b[39m df[\u001b[39m'\u001b[39m\u001b[39mfilepath\u001b[39m\u001b[39m'\u001b[39m]\u001b[39m.\u001b[39mapply(\u001b[39mlambda\u001b[39;00m x: get_dominant_colors(filepath\u001b[39m=\u001b[39;49mx, normed_kernel\u001b[39m=\u001b[39;49mnormed_kernel))\n\u001b[0;32m      5\u001b[0m after \u001b[39m=\u001b[39m time\u001b[39m.\u001b[39mtime()\n\u001b[0;32m      6\u001b[0m \u001b[39mprint\u001b[39m (after \u001b[39m-\u001b[39m before)\n",
      "Cell \u001b[1;32mIn [77], line 63\u001b[0m, in \u001b[0;36mget_dominant_colors\u001b[1;34m(filepath, normed_kernel)\u001b[0m\n\u001b[0;32m     61\u001b[0m draw \u001b[39m=\u001b[39m get_draw(img_colors\u001b[39m=\u001b[39mimg_colors, normed_kernel\u001b[39m=\u001b[39mnormed_kernel)\n\u001b[0;32m     62\u001b[0m \u001b[39m# return draw\u001b[39;00m\n\u001b[1;32m---> 63\u001b[0m knn_colors \u001b[39m=\u001b[39m get_knn_for_colors_list(draw)\n\u001b[0;32m     64\u001b[0m hex_vals \u001b[39m=\u001b[39m \u001b[39mlist\u001b[39m()\n\u001b[0;32m     65\u001b[0m \u001b[39mfor\u001b[39;00m color \u001b[39min\u001b[39;00m knn_colors:\n\u001b[0;32m     66\u001b[0m     \u001b[39m# These colors are encoded with BGR\u001b[39;00m\n",
      "Cell \u001b[1;32mIn [77], line 49\u001b[0m, in \u001b[0;36mget_knn_for_colors_list\u001b[1;34m(colors)\u001b[0m\n\u001b[0;32m     47\u001b[0m \u001b[39mdef\u001b[39;00m \u001b[39mget_knn_for_colors_list\u001b[39m(colors):\n\u001b[0;32m     48\u001b[0m     kmeans \u001b[39m=\u001b[39m KMeans(n_clusters\u001b[39m=\u001b[39m\u001b[39m3\u001b[39m, random_state\u001b[39m=\u001b[39m\u001b[39m42\u001b[39m)\n\u001b[1;32m---> 49\u001b[0m     kmeans\u001b[39m.\u001b[39;49mfit(colors)\n\u001b[0;32m     50\u001b[0m     \u001b[39mreturn\u001b[39;00m kmeans\u001b[39m.\u001b[39mcluster_centers_\n",
      "File \u001b[1;32m~\\AppData\\Local\\Packages\\PythonSoftwareFoundation.Python.3.10_qbz5n2kfra8p0\\LocalCache\\local-packages\\Python310\\site-packages\\sklearn\\cluster\\_kmeans.py:1417\u001b[0m, in \u001b[0;36mKMeans.fit\u001b[1;34m(self, X, y, sample_weight)\u001b[0m\n\u001b[0;32m   1414\u001b[0m     \u001b[39mprint\u001b[39m(\u001b[39m\"\u001b[39m\u001b[39mInitialization complete\u001b[39m\u001b[39m\"\u001b[39m)\n\u001b[0;32m   1416\u001b[0m \u001b[39m# run a k-means once\u001b[39;00m\n\u001b[1;32m-> 1417\u001b[0m labels, inertia, centers, n_iter_ \u001b[39m=\u001b[39m kmeans_single(\n\u001b[0;32m   1418\u001b[0m     X,\n\u001b[0;32m   1419\u001b[0m     sample_weight,\n\u001b[0;32m   1420\u001b[0m     centers_init,\n\u001b[0;32m   1421\u001b[0m     max_iter\u001b[39m=\u001b[39;49m\u001b[39mself\u001b[39;49m\u001b[39m.\u001b[39;49mmax_iter,\n\u001b[0;32m   1422\u001b[0m     verbose\u001b[39m=\u001b[39;49m\u001b[39mself\u001b[39;49m\u001b[39m.\u001b[39;49mverbose,\n\u001b[0;32m   1423\u001b[0m     tol\u001b[39m=\u001b[39;49m\u001b[39mself\u001b[39;49m\u001b[39m.\u001b[39;49m_tol,\n\u001b[0;32m   1424\u001b[0m     x_squared_norms\u001b[39m=\u001b[39;49mx_squared_norms,\n\u001b[0;32m   1425\u001b[0m     n_threads\u001b[39m=\u001b[39;49m\u001b[39mself\u001b[39;49m\u001b[39m.\u001b[39;49m_n_threads,\n\u001b[0;32m   1426\u001b[0m )\n\u001b[0;32m   1428\u001b[0m \u001b[39m# determine if these results are the best so far\u001b[39;00m\n\u001b[0;32m   1429\u001b[0m \u001b[39m# we chose a new run if it has a better inertia and the clustering is\u001b[39;00m\n\u001b[0;32m   1430\u001b[0m \u001b[39m# different from the best so far (it's possible that the inertia is\u001b[39;00m\n\u001b[0;32m   1431\u001b[0m \u001b[39m# slightly better even if the clustering is the same with potentially\u001b[39;00m\n\u001b[0;32m   1432\u001b[0m \u001b[39m# permuted labels, due to rounding errors)\u001b[39;00m\n\u001b[0;32m   1433\u001b[0m \u001b[39mif\u001b[39;00m best_inertia \u001b[39mis\u001b[39;00m \u001b[39mNone\u001b[39;00m \u001b[39mor\u001b[39;00m (\n\u001b[0;32m   1434\u001b[0m     inertia \u001b[39m<\u001b[39m best_inertia\n\u001b[0;32m   1435\u001b[0m     \u001b[39mand\u001b[39;00m \u001b[39mnot\u001b[39;00m _is_same_clustering(labels, best_labels, \u001b[39mself\u001b[39m\u001b[39m.\u001b[39mn_clusters)\n\u001b[0;32m   1436\u001b[0m ):\n",
      "File \u001b[1;32m~\\AppData\\Local\\Packages\\PythonSoftwareFoundation.Python.3.10_qbz5n2kfra8p0\\LocalCache\\local-packages\\Python310\\site-packages\\sklearn\\cluster\\_kmeans.py:687\u001b[0m, in \u001b[0;36m_kmeans_single_lloyd\u001b[1;34m(X, sample_weight, centers_init, max_iter, verbose, x_squared_norms, tol, n_threads)\u001b[0m\n\u001b[0;32m    683\u001b[0m         labels_old[:] \u001b[39m=\u001b[39m labels\n\u001b[0;32m    685\u001b[0m     \u001b[39mif\u001b[39;00m \u001b[39mnot\u001b[39;00m strict_convergence:\n\u001b[0;32m    686\u001b[0m         \u001b[39m# rerun E-step so that predicted labels match cluster centers\u001b[39;00m\n\u001b[1;32m--> 687\u001b[0m         lloyd_iter(\n\u001b[0;32m    688\u001b[0m             X,\n\u001b[0;32m    689\u001b[0m             sample_weight,\n\u001b[0;32m    690\u001b[0m             x_squared_norms,\n\u001b[0;32m    691\u001b[0m             centers,\n\u001b[0;32m    692\u001b[0m             centers,\n\u001b[0;32m    693\u001b[0m             weight_in_clusters,\n\u001b[0;32m    694\u001b[0m             labels,\n\u001b[0;32m    695\u001b[0m             center_shift,\n\u001b[0;32m    696\u001b[0m             n_threads,\n\u001b[0;32m    697\u001b[0m             update_centers\u001b[39m=\u001b[39;49m\u001b[39mFalse\u001b[39;49;00m,\n\u001b[0;32m    698\u001b[0m         )\n\u001b[0;32m    700\u001b[0m inertia \u001b[39m=\u001b[39m _inertia(X, sample_weight, centers, labels, n_threads)\n\u001b[0;32m    702\u001b[0m \u001b[39mreturn\u001b[39;00m labels, inertia, centers, i \u001b[39m+\u001b[39m \u001b[39m1\u001b[39m\n",
      "\u001b[1;31mKeyboardInterrupt\u001b[0m: "
     ]
    }
   ],
   "source": [
    "kernel = gaussian_kernel(224, 224, kernel_relative_size = 0.1, verbose=False)\n",
    "normed_kernel = get_flatted_normalized_gaussian_kernel(kernel)\n",
    "before = time.time()\n",
    "df['hex_codes'] = df['filepath'].apply(lambda x: get_dominant_colors(filepath=x, normed_kernel=normed_kernel))\n",
    "after = time.time()\n",
    "print (after - before)\n",
    "df.to_csv('C:\\\\Users\\\\mdc20\\\\labeled_filenames.csv')\n"
   ]
  },
  {
   "cell_type": "code",
   "execution_count": 16,
   "metadata": {},
   "outputs": [
    {
     "data": {
      "text/plain": [
       "244300    B29C90\n",
       "114934    978C8B\n",
       "19860     875D5C\n",
       "36349     4E4F5A\n",
       "105348    CDACA2\n",
       "13091     403F3F\n",
       "34121     837F82\n",
       "232415    D8CCC2\n",
       "166516    BFB6AA\n",
       "75790     BFBFBF\n",
       "Name: filepath, dtype: object"
      ]
     },
     "execution_count": 16,
     "metadata": {},
     "output_type": "execute_result"
    }
   ],
   "source": [
    "new_df.head(10)"
   ]
  },
  {
   "cell_type": "code",
   "execution_count": 61,
   "metadata": {},
   "outputs": [
    {
     "data": {
      "text/plain": [
       "array([[ 10,  20,  30,  40,  50],\n",
       "       [100, 200, 300, 400, 500]])"
      ]
     },
     "execution_count": 61,
     "metadata": {},
     "output_type": "execute_result"
    }
   ],
   "source": [
    "filter_indices = [1, 2]\n",
    "array = np.array([[1, 2, 3, 4, 5], \n",
    "                  [10, 20, 30, 40, 50], \n",
    "                  [100, 200, 300, 400, 500]])\n",
    "array[filter_indices]"
   ]
  },
  {
   "cell_type": "code",
   "execution_count": null,
   "metadata": {},
   "outputs": [],
   "source": []
  }
 ],
 "metadata": {
  "kernelspec": {
   "display_name": "Python 3.10.8 64-bit (microsoft store)",
   "language": "python",
   "name": "python3"
  },
  "language_info": {
   "codemirror_mode": {
    "name": "ipython",
    "version": 3
   },
   "file_extension": ".py",
   "mimetype": "text/x-python",
   "name": "python",
   "nbconvert_exporter": "python",
   "pygments_lexer": "ipython3",
   "version": "3.10.8"
  },
  "orig_nbformat": 4,
  "vscode": {
   "interpreter": {
    "hash": "1ea31cd553c25f0eb299ef0f290504065f7c50641917aefd81c153e04099c134"
   }
  }
 },
 "nbformat": 4,
 "nbformat_minor": 2
}
