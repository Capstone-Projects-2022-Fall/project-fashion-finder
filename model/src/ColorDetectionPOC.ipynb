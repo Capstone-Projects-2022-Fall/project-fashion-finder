{
 "cells": [
  {
   "cell_type": "markdown",
   "metadata": {},
   "source": [
    "## Color Detection"
   ]
  },
  {
   "cell_type": "code",
   "execution_count": 7,
   "metadata": {},
   "outputs": [],
   "source": [
    "import numpy as np\n",
    "import cv2\n",
    "import matplotlib.pyplot as plt\n",
    "import scipy\n"
   ]
  },
  {
   "cell_type": "code",
   "execution_count": 84,
   "metadata": {},
   "outputs": [],
   "source": [
    "# def G(x, y, sigma, img_height, img_width):\n",
    "\n",
    "\n",
    "\n",
    "def gaussian_kernel(img_height, img_width, kernel_relative_size = 0.1, verbose=False):\n",
    "    xs = scipy.signal.gaussian(img_width, std= img_width * kernel_relative_size)\n",
    "    ys = scipy.signal.gaussian(img_height, std=img_height * kernel_relative_size)\n",
    "    kernel = np.array([[x*y for x in xs] for y in ys])\n",
    "    return kernel"
   ]
  },
  {
   "cell_type": "code",
   "execution_count": 90,
   "metadata": {},
   "outputs": [],
   "source": [
    "import cv2\n",
    "def readImg(filepath):\n",
    "    img = cv2.imread(filepath)\n",
    "    # img.resize()\n",
    "    height = len(img)\n",
    "    width= len(img[0])\n",
    "    return img, height, width"
   ]
  },
  {
   "cell_type": "code",
   "execution_count": 97,
   "metadata": {},
   "outputs": [
    {
     "name": "stdout",
     "output_type": "stream",
     "text": [
      "E:\\img_test_input\\unlabeled\\img_00000034.jpg\n"
     ]
    }
   ],
   "source": [
    "FOLDER_PATH = 'E:\\\\img_test_input\\\\unlabeled\\\\'\n",
    "FILEPATH = 'unlabeled-0001.jpg'\n",
    "IMG_PATH = FOLDER_PATH + FILEPATH\n",
    "print(IMG_PATH)\n",
    "img, height, width = readImg(IMG_PATH)\n",
    "g_kernel = gaussian_kernel(height, width,kernel_relative_size=0.01)\n"
   ]
  },
  {
   "cell_type": "code",
   "execution_count": 109,
   "metadata": {},
   "outputs": [],
   "source": [
    "def rgb_to_hex(r, g, b):\n",
    "  return ('{:02X}' * 3).format(r, g, b)\n"
   ]
  },
  {
   "cell_type": "code",
   "execution_count": 111,
   "metadata": {},
   "outputs": [
    {
     "data": {
      "text/plain": [
       "'1D56C7'"
      ]
     },
     "execution_count": 111,
     "metadata": {},
     "output_type": "execute_result"
    }
   ],
   "source": [
    "img_colors = np.array(img.reshape((-1, 3)), dtype=float)\n",
    "# img_colors = img_colors.dtype ='float'\n",
    "g_kernel = g_kernel.reshape(-1)\n",
    "# whitened_colors  = scipy.cluster.vq.whiten(img_colors)\n",
    "\n",
    "bgr_total = [0, 0, 0]\n",
    "for gauss_val, img_bgr_arr in zip(g_kernel, img_colors):\n",
    "    bgr_total += img_bgr_arr * gauss_val\n",
    "bgr_total = bgr_total / np.sum(g_kernel)\n",
    "blue = int (bgr_total[0])\n",
    "green = int (bgr_total[1])\n",
    "red = int (bgr_total[2])\n",
    "\n",
    "rgb_to_hex(red, green, blue)\n",
    "\n",
    "# max_val = np.max(whitened_colors)\n",
    "\n",
    "# k_means, distortion = scipy.cluster.vq.kmeans(whitened_colors, k_or_guess=5)\n",
    "# adj_k_means = k_means * (256 // max_val)\n",
    "# print(k_means)\n",
    "# print(distortion)"
   ]
  },
  {
   "cell_type": "code",
   "execution_count": null,
   "metadata": {},
   "outputs": [],
   "source": [
    "class KMeansReducedPalette:\n",
    "    def __init__(self, num_colors):\n",
    "        self.num_colors = num_colors\n",
    "        # Random state for reproducibility.\n",
    "        self.kmeans = KMeans(num_colors, random_state=0xfee1600d)\n",
    "        self.source_pixels = None\n",
    "\n",
    "    def _preprocess(self, image):\n",
    "        assert image.shape[-1] == 3, 'image must have exactly 3 color channels'\n",
    "        assert image.dtype == 'uint8', 'image must be in np.uint8 type'\n",
    "\n",
    "        # Flatten pixels, if not already.\n",
    "        if len(image.shape) > 2:\n",
    "            return image.reshape(-1, 3)\n",
    "\n",
    "        return image\n",
    "\n",
    "    def fit(self, image):\n",
    "        image_cpy = image.copy()\n",
    "        self.source_pixels = self._preprocess(image_cpy)\n",
    "        self.kmeans.fit(self.source_pixels)\n",
    "\n",
    "    def recolor(self, image):\n",
    "        original_shape = image.shape\n",
    "        image = self._preprocess(image)\n",
    "        recolor_idx = self.kmeans.predict(image)\n",
    "        recolor = self.kmeans.cluster_centers_[recolor_idx]\n",
    "        recolor = recolor.reshape(original_shape)\n",
    "\n",
    "        return np.round(recolor).astype(np.uint8)"
   ]
  }
 ],
 "metadata": {
  "kernelspec": {
   "display_name": "Python 3.10.8 64-bit (microsoft store)",
   "language": "python",
   "name": "python3"
  },
  "language_info": {
   "codemirror_mode": {
    "name": "ipython",
    "version": 3
   },
   "file_extension": ".py",
   "mimetype": "text/x-python",
   "name": "python",
   "nbconvert_exporter": "python",
   "pygments_lexer": "ipython3",
   "version": "3.10.8"
  },
  "orig_nbformat": 4,
  "vscode": {
   "interpreter": {
    "hash": "1ea31cd553c25f0eb299ef0f290504065f7c50641917aefd81c153e04099c134"
   }
  }
 },
 "nbformat": 4,
 "nbformat_minor": 2
}
