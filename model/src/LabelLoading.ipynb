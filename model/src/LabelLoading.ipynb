{
 "cells": [
  {
   "cell_type": "code",
   "execution_count": 1,
   "metadata": {},
   "outputs": [
    {
     "name": "stdout",
     "output_type": "stream",
     "text": [
      "Requirement already satisfied: pymongo in c:\\users\\mdc20\\appdata\\local\\packages\\pythonsoftwarefoundation.python.3.10_qbz5n2kfra8p0\\localcache\\local-packages\\python310\\site-packages (4.3.2)\n",
      "Requirement already satisfied: dnspython<3.0.0,>=1.16.0 in c:\\users\\mdc20\\appdata\\local\\packages\\pythonsoftwarefoundation.python.3.10_qbz5n2kfra8p0\\localcache\\local-packages\\python310\\site-packages (from pymongo) (2.2.1)\n"
     ]
    }
   ],
   "source": [
    "!pip install pymongo"
   ]
  },
  {
   "cell_type": "code",
   "execution_count": 11,
   "metadata": {},
   "outputs": [],
   "source": [
    "import pandas as pd\n",
    "from PIL import Image\n",
    "import io\n",
    "df = pd.read_csv('C:\\\\Users\\\\mdc20\\\\full_labels.csv')"
   ]
  },
  {
   "cell_type": "code",
   "execution_count": 3,
   "metadata": {},
   "outputs": [],
   "source": [
    "from pymongo import MongoClient\n",
    "def get_db_handle(db_name, host, port, username, password):\n",
    "\n",
    "    client = MongoClient(host=host,\n",
    "                         port=int(port),\n",
    "                         username=username,\n",
    "                         password=password)\n",
    "    db_handle = client['db_name']\n",
    "    return db_handle, client\n",
    "def get_db_default_handle():\n",
    "    \n",
    "\n",
    "    db_handle, client = get_db_handle(db_name='fashion_finder_db',\n",
    "                                      host='mongodb+srv://cluster0.glnjpi9.mongodb.net/test',\n",
    "                                      username='django_db_user',\n",
    "                                      password='Ko4mNy6A5JEaST', # TODO: make secret\n",
    "                                      port=27017)\n",
    "    return db_handle, client"
   ]
  },
  {
   "cell_type": "code",
   "execution_count": 4,
   "metadata": {},
   "outputs": [],
   "source": [
    "db_handle, client = get_db_default_handle()\n",
    "db = client.fashion_finder_db\n",
    "# db_handle.createCollection('LabeledFashionPiece', {})"
   ]
  },
  {
   "cell_type": "code",
   "execution_count": 38,
   "metadata": {},
   "outputs": [
    {
     "data": {
      "text/plain": [
       "Collection(Database(MongoClient(host=['ac-3cypet9-shard-00-02.glnjpi9.mongodb.net:27017', 'ac-3cypet9-shard-00-01.glnjpi9.mongodb.net:27017', 'ac-3cypet9-shard-00-00.glnjpi9.mongodb.net:27017'], document_class=dict, tz_aware=False, connect=True, authsource='admin', replicaset='atlas-5h9kqq-shard-0', tls=True), 'fashion_finder_db'), 'LabeledFashionPiece')"
      ]
     },
     "execution_count": 38,
     "metadata": {},
     "output_type": "execute_result"
    }
   ],
   "source": [
    "db.create_collection('LabeledFashionPiece')"
   ]
  },
  {
   "cell_type": "code",
   "execution_count": 15,
   "metadata": {},
   "outputs": [],
   "source": [
    "# Model definition\n",
    "def create_mongo_document(client, data):\n",
    "    filepath = data['filepath']\n",
    "    try:\n",
    "        im = Image.open(filepath)\n",
    "        if im is not None:\n",
    "            img_bytes = io.BytesIO()\n",
    "            im.save(img_bytes, format='JPEG')\n",
    "\n",
    "            fashion_piece_doc = {\n",
    "                'img_data': img_bytes.getvalue(),\n",
    "                'labels': eval(data['labels']),\n",
    "                'hex_codes': eval(data['hex_codes']),\n",
    "                'descriptor': data['descriptor'],\n",
    "            }\n",
    "            return fashion_piece_doc\n",
    "        else:\n",
    "            print(\"Image does not exist\")\n",
    "            print(data['filepath'])\n",
    "            return None\n",
    "    except:\n",
    "        return None\n",
    "\n",
    "# df_sample = df.sample(1)\n",
    "# mongo_doc = df_sample.apply(lambda row: create_mongo_document(client, row), axis=1)\n",
    "# doc = create_mongo_document(client, df_sample)"
   ]
  },
  {
   "cell_type": "code",
   "execution_count": 13,
   "metadata": {},
   "outputs": [],
   "source": [
    "df = df[['folder', 'labels','hex_codes','filepath']]\n",
    "df = df.rename({'folder':'descriptor'}, axis=1)"
   ]
  },
  {
   "cell_type": "code",
   "execution_count": 16,
   "metadata": {},
   "outputs": [],
   "source": [
    "import json\n",
    "from venv import create\n",
    "# df.T.to_json()\n",
    "df_sample = df\n",
    "\n",
    "records = json.loads(df_sample.T.to_json()).values()\n",
    "# records_2 = \n",
    "\n",
    "mongo_docs = [create_mongo_document(client, record) for record in records] \n",
    "# db.LabeledFashionPiece.insert_many(mongo_docs)\n",
    "# print(mongo_docs)\n",
    "# for record in records:\n",
    "    # print(type(record))\n",
    "    # fp_doc = create_mongo_document(client, record)\n",
    "    # print(fp_doc)\n",
    "    # break"
   ]
  },
  {
   "cell_type": "code",
   "execution_count": null,
   "metadata": {},
   "outputs": [],
   "source": [
    "mongo_docs = filter(lambda x: x is not None, mongo_docs)"
   ]
  },
  {
   "cell_type": "code",
   "execution_count": null,
   "metadata": {},
   "outputs": [],
   "source": [
    "db.LabeledFashionPiece.insert_many(records)"
   ]
  },
  {
   "cell_type": "code",
   "execution_count": 30,
   "metadata": {},
   "outputs": [
    {
     "name": "stdout",
     "output_type": "stream",
     "text": [
      "6359e230564603a74d4fba98\n"
     ]
    }
   ],
   "source": [
    "data = {\n",
    "    'data' : {\n",
    "        'labels': ['Striped', 'Tribal', 'Print', 'Muscle', 'Tee'],\n",
    "        'hex_codes': ['E2DDDF', '8F716B', 'B9ADB3'],\n",
    "        'descriptor': 'Some descriptor'\n",
    "    }\n",
    "}\n",
    "id = db.LabeledFashionPiece.insert_one(data)\n",
    "print(id.inserted_id)"
   ]
  },
  {
   "cell_type": "code",
   "execution_count": null,
   "metadata": {},
   "outputs": [],
   "source": []
  }
 ],
 "metadata": {
  "kernelspec": {
   "display_name": "Python 3.10.8 64-bit (microsoft store)",
   "language": "python",
   "name": "python3"
  },
  "language_info": {
   "codemirror_mode": {
    "name": "ipython",
    "version": 3
   },
   "file_extension": ".py",
   "mimetype": "text/x-python",
   "name": "python",
   "nbconvert_exporter": "python",
   "pygments_lexer": "ipython3",
   "version": "3.10.8"
  },
  "orig_nbformat": 4,
  "vscode": {
   "interpreter": {
    "hash": "1ea31cd553c25f0eb299ef0f290504065f7c50641917aefd81c153e04099c134"
   }
  }
 },
 "nbformat": 4,
 "nbformat_minor": 2
}
