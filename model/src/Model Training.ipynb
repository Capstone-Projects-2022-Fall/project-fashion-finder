{
 "cells": [
  {
   "cell_type": "code",
   "execution_count": 3,
   "id": "a1cc7eb2",
   "metadata": {},
   "outputs": [
    {
     "name": "stdout",
     "output_type": "stream",
     "text": [
      "Requirement already satisfied: fastai in ./FashionFinderVirtualEnv/lib/python3.8/site-packages (2.7.9)\n",
      "Requirement already satisfied: pandas in ./FashionFinderVirtualEnv/lib/python3.8/site-packages (from fastai) (1.5.0)\n",
      "Requirement already satisfied: torchvision>=0.8.2 in ./FashionFinderVirtualEnv/lib/python3.8/site-packages (from fastai) (0.13.1)\n",
      "Requirement already satisfied: pyyaml in ./FashionFinderVirtualEnv/lib/python3.8/site-packages (from fastai) (6.0)\n",
      "Requirement already satisfied: pillow>6.0.0 in ./FashionFinderVirtualEnv/lib/python3.8/site-packages (from fastai) (9.2.0)\n",
      "Requirement already satisfied: fastcore<1.6,>=1.4.5 in ./FashionFinderVirtualEnv/lib/python3.8/site-packages (from fastai) (1.5.27)\n",
      "Requirement already satisfied: torch<1.14,>=1.7 in ./FashionFinderVirtualEnv/lib/python3.8/site-packages (from fastai) (1.12.1)\n",
      "Requirement already satisfied: scikit-learn in ./FashionFinderVirtualEnv/lib/python3.8/site-packages (from fastai) (1.1.2)\n",
      "Requirement already satisfied: matplotlib in ./FashionFinderVirtualEnv/lib/python3.8/site-packages (from fastai) (3.6.0)\n",
      "Requirement already satisfied: requests in ./FashionFinderVirtualEnv/lib/python3.8/site-packages (from fastai) (2.28.1)\n",
      "Requirement already satisfied: fastdownload<2,>=0.0.5 in ./FashionFinderVirtualEnv/lib/python3.8/site-packages (from fastai) (0.0.7)\n",
      "Requirement already satisfied: packaging in ./FashionFinderVirtualEnv/lib/python3.8/site-packages (from fastai) (21.3)\n",
      "Requirement already satisfied: fastprogress>=0.2.4 in ./FashionFinderVirtualEnv/lib/python3.8/site-packages (from fastai) (1.0.3)\n",
      "Requirement already satisfied: scipy in ./FashionFinderVirtualEnv/lib/python3.8/site-packages (from fastai) (1.9.1)\n",
      "Requirement already satisfied: spacy<4 in ./FashionFinderVirtualEnv/lib/python3.8/site-packages (from fastai) (3.4.1)\n",
      "Requirement already satisfied: pip in ./FashionFinderVirtualEnv/lib/python3.8/site-packages (from fastai) (22.2.2)\n",
      "Requirement already satisfied: pathy>=0.3.5 in ./FashionFinderVirtualEnv/lib/python3.8/site-packages (from spacy<4->fastai) (0.6.2)\n",
      "Requirement already satisfied: setuptools in ./FashionFinderVirtualEnv/lib/python3.8/site-packages (from spacy<4->fastai) (65.3.0)\n",
      "Requirement already satisfied: jinja2 in ./FashionFinderVirtualEnv/lib/python3.8/site-packages (from spacy<4->fastai) (3.1.2)\n",
      "Requirement already satisfied: murmurhash<1.1.0,>=0.28.0 in ./FashionFinderVirtualEnv/lib/python3.8/site-packages (from spacy<4->fastai) (1.0.8)\n",
      "Requirement already satisfied: srsly<3.0.0,>=2.4.3 in ./FashionFinderVirtualEnv/lib/python3.8/site-packages (from spacy<4->fastai) (2.4.4)\n",
      "Requirement already satisfied: preshed<3.1.0,>=3.0.2 in ./FashionFinderVirtualEnv/lib/python3.8/site-packages (from spacy<4->fastai) (3.0.7)\n",
      "Requirement already satisfied: pydantic!=1.8,!=1.8.1,<1.10.0,>=1.7.4 in ./FashionFinderVirtualEnv/lib/python3.8/site-packages (from spacy<4->fastai) (1.9.2)\n",
      "Requirement already satisfied: spacy-loggers<2.0.0,>=1.0.0 in ./FashionFinderVirtualEnv/lib/python3.8/site-packages (from spacy<4->fastai) (1.0.3)\n",
      "Requirement already satisfied: typer<0.5.0,>=0.3.0 in ./FashionFinderVirtualEnv/lib/python3.8/site-packages (from spacy<4->fastai) (0.4.2)\n",
      "Requirement already satisfied: thinc<8.2.0,>=8.1.0 in ./FashionFinderVirtualEnv/lib/python3.8/site-packages (from spacy<4->fastai) (8.1.2)\n",
      "Requirement already satisfied: tqdm<5.0.0,>=4.38.0 in ./FashionFinderVirtualEnv/lib/python3.8/site-packages (from spacy<4->fastai) (4.64.1)\n",
      "Requirement already satisfied: cymem<2.1.0,>=2.0.2 in ./FashionFinderVirtualEnv/lib/python3.8/site-packages (from spacy<4->fastai) (2.0.6)\n",
      "Requirement already satisfied: langcodes<4.0.0,>=3.2.0 in ./FashionFinderVirtualEnv/lib/python3.8/site-packages (from spacy<4->fastai) (3.3.0)\n",
      "Requirement already satisfied: wasabi<1.1.0,>=0.9.1 in ./FashionFinderVirtualEnv/lib/python3.8/site-packages (from spacy<4->fastai) (0.10.1)\n",
      "Requirement already satisfied: spacy-legacy<3.1.0,>=3.0.9 in ./FashionFinderVirtualEnv/lib/python3.8/site-packages (from spacy<4->fastai) (3.0.10)\n",
      "Requirement already satisfied: numpy>=1.15.0 in ./FashionFinderVirtualEnv/lib/python3.8/site-packages (from spacy<4->fastai) (1.23.3)\n",
      "Requirement already satisfied: catalogue<2.1.0,>=2.0.6 in ./FashionFinderVirtualEnv/lib/python3.8/site-packages (from spacy<4->fastai) (2.0.8)\n",
      "Requirement already satisfied: pyparsing!=3.0.5,>=2.0.2 in ./FashionFinderVirtualEnv/lib/python3.8/site-packages (from packaging->fastai) (3.0.9)\n",
      "Requirement already satisfied: certifi>=2017.4.17 in ./FashionFinderVirtualEnv/lib/python3.8/site-packages (from requests->fastai) (2022.9.24)\n",
      "Requirement already satisfied: charset-normalizer<3,>=2 in ./FashionFinderVirtualEnv/lib/python3.8/site-packages (from requests->fastai) (2.1.1)\n",
      "Requirement already satisfied: urllib3<1.27,>=1.21.1 in ./FashionFinderVirtualEnv/lib/python3.8/site-packages (from requests->fastai) (1.26.12)\n",
      "Requirement already satisfied: idna<4,>=2.5 in ./FashionFinderVirtualEnv/lib/python3.8/site-packages (from requests->fastai) (3.4)\n",
      "Requirement already satisfied: typing-extensions in ./FashionFinderVirtualEnv/lib/python3.8/site-packages (from torch<1.14,>=1.7->fastai) (4.3.0)\n",
      "Requirement already satisfied: contourpy>=1.0.1 in ./FashionFinderVirtualEnv/lib/python3.8/site-packages (from matplotlib->fastai) (1.0.5)\n",
      "Requirement already satisfied: kiwisolver>=1.0.1 in ./FashionFinderVirtualEnv/lib/python3.8/site-packages (from matplotlib->fastai) (1.4.4)\n",
      "Requirement already satisfied: python-dateutil>=2.7 in ./FashionFinderVirtualEnv/lib/python3.8/site-packages (from matplotlib->fastai) (2.8.2)\n",
      "Requirement already satisfied: cycler>=0.10 in ./FashionFinderVirtualEnv/lib/python3.8/site-packages (from matplotlib->fastai) (0.11.0)\n",
      "Requirement already satisfied: fonttools>=4.22.0 in ./FashionFinderVirtualEnv/lib/python3.8/site-packages (from matplotlib->fastai) (4.37.4)\n",
      "Requirement already satisfied: pytz>=2020.1 in ./FashionFinderVirtualEnv/lib/python3.8/site-packages (from pandas->fastai) (2022.2.1)\n",
      "Requirement already satisfied: joblib>=1.0.0 in ./FashionFinderVirtualEnv/lib/python3.8/site-packages (from scikit-learn->fastai) (1.2.0)\n",
      "Requirement already satisfied: threadpoolctl>=2.0.0 in ./FashionFinderVirtualEnv/lib/python3.8/site-packages (from scikit-learn->fastai) (3.1.0)\n",
      "Requirement already satisfied: smart-open<6.0.0,>=5.2.1 in ./FashionFinderVirtualEnv/lib/python3.8/site-packages (from pathy>=0.3.5->spacy<4->fastai) (5.2.1)\n",
      "Requirement already satisfied: six>=1.5 in ./FashionFinderVirtualEnv/lib/python3.8/site-packages (from python-dateutil>=2.7->matplotlib->fastai) (1.16.0)\n",
      "Requirement already satisfied: confection<1.0.0,>=0.0.1 in ./FashionFinderVirtualEnv/lib/python3.8/site-packages (from thinc<8.2.0,>=8.1.0->spacy<4->fastai) (0.0.2)\n",
      "Requirement already satisfied: blis<0.8.0,>=0.7.8 in ./FashionFinderVirtualEnv/lib/python3.8/site-packages (from thinc<8.2.0,>=8.1.0->spacy<4->fastai) (0.7.8)\n",
      "Requirement already satisfied: click<9.0.0,>=7.1.1 in ./FashionFinderVirtualEnv/lib/python3.8/site-packages (from typer<0.5.0,>=0.3.0->spacy<4->fastai) (8.1.3)\n",
      "Requirement already satisfied: MarkupSafe>=2.0 in ./FashionFinderVirtualEnv/lib/python3.8/site-packages (from jinja2->spacy<4->fastai) (2.1.1)\n"
     ]
    }
   ],
   "source": [
    "!pip install fastai\n",
    "from fastai.vision.data import ImageDataLoaders\n",
    "from fastai.vision.all import *\n",
    "from fastai.imports import *\n",
    "import gc \n",
    "import pandas as pd\n",
    "\n",
    "%matplotlib inline"
   ]
  },
  {
   "cell_type": "code",
   "execution_count": null,
   "id": "1350a624",
   "metadata": {},
   "outputs": [],
   "source": [
    "PATH = \"C:\\Users\\mdc20\\Downloads\\img\"\n",
    "TRAINING_PATH = \"clothes_categories/train_labels.csv\"\n",
    "TEST_PATH = \"clothes_categories/test_labels.csv\"\n",
    "CUSTOM_DATASET_PATH = \"clothes_categories/test_labels_phone.csv\"\n",
    "CLASSES_PATH = \"clothes_categories/classes.txt\""
   ]
  },
  {
   "cell_type": "code",
   "execution_count": null,
   "id": "0fc29b0c",
   "metadata": {},
   "outputs": [],
   "source": [
    "data = ImageDataLoaders.from_csv(PATH, csv_fname=TRAINING_PATH,\n",
    "                                 item_tfms=Resize(300),\n",
    "                                 batch_tfms=aug_transforms(size=224, min_scale=0.9),\n",
    "                                 valid_pct=0.1,\n",
    "                                 splitter=RandomSplitter(seed=42), #seed=42\n",
    "                                 num_workers=0)"
   ]
  }
 ],
 "metadata": {
  "kernelspec": {
   "display_name": "Python 3 (ipykernel)",
   "language": "python",
   "name": "python3"
  },
  "language_info": {
   "codemirror_mode": {
    "name": "ipython",
    "version": 3
   },
   "file_extension": ".py",
   "mimetype": "text/x-python",
   "name": "python",
   "nbconvert_exporter": "python",
   "pygments_lexer": "ipython3",
   "version": "3.8.10"
  }
 },
 "nbformat": 4,
 "nbformat_minor": 5
}
